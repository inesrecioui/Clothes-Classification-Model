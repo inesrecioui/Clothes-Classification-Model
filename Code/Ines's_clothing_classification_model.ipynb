{
  "nbformat": 4,
  "nbformat_minor": 0,
  "metadata": {
    "colab": {
      "provenance": []
    },
    "kernelspec": {
      "name": "python3",
      "display_name": "Python 3"
    },
    "language_info": {
      "name": "python"
    }
  },
  "cells": [
    {
      "cell_type": "code",
      "source": [
        "import tensorflow as tf\n",
        "from tensorflow import keras\n",
        "\n",
        "# Load the Fashion MNIST dataset\n",
        "fashion_mnist = keras.datasets.fashion_mnist\n",
        "(train_images, train_labels), (_, _) = fashion_mnist.load_data()\n",
        "\n",
        "# Preprocess the data\n",
        "train_images = train_images / 255.0\n",
        "\n",
        "# Define the model architecture\n",
        "model = keras.Sequential([\n",
        "    keras.layers.Flatten(input_shape=(28, 28)),\n",
        "    keras.layers.Dense(128, activation='relu'),\n",
        "    keras.layers.Dense(10, activation='softmax')\n",
        "])\n",
        "\n",
        "# Compile and train the model\n",
        "model.compile(optimizer='adam', loss='sparse_categorical_crossentropy', metrics=['accuracy'])\n",
        "model.fit(train_images, train_labels, epochs=15)\n",
        "\n",
        "# Save the trained model\n",
        "model.save('fashion_mnist_model.h5')\n"
      ],
      "metadata": {
        "id": "U26f-G0zXBTI"
      },
      "execution_count": 35,
      "outputs": []
    },
    {
      "cell_type": "code",
      "source": [
        "import tensorflow as tf\n",
        "from tensorflow import keras\n",
        "import numpy as np\n",
        "import matplotlib.pyplot as plt\n",
        "from PIL import Image\n",
        "from google.colab import files\n",
        "\n",
        "# Load the Fashion MNIST dataset\n",
        "fashion_mnist = keras.datasets.fashion_mnist\n",
        "(_, _), (test_images, _) = fashion_mnist.load_data()\n",
        "\n",
        "# Preprocess the data\n",
        "test_images = test_images / 255.0\n",
        "\n",
        "# Load the trained model\n",
        "model = keras.models.load_model('fashion_mnist_model.h5')  # Use the correct model file name\n",
        "\n",
        "# Define class labels\n",
        "class_names = ['T-shirt/top', 'Trouser', 'Pullover', 'Dress',\n",
        "               'Coat', 'Sandal', 'Shirt', 'Sneaker', 'Bag', 'Ankle boot']\n",
        "\n",
        "# Function to preprocess the uploaded image\n",
        "def preprocess_image(image_path):\n",
        "    img = Image.open(image_path).convert('L')\n",
        "    img = img.resize((28, 28), Image.ANTIALIAS)\n",
        "    img = np.array(img) / 255.0\n",
        "    img = np.expand_dims(img, axis=0)\n",
        "    return img\n",
        "\n",
        "# Function to predict the class of the uploaded image\n",
        "def predict_image(image_path):\n",
        "    img = preprocess_image(image_path)\n",
        "    prediction = model.predict(img)\n",
        "    predicted_class = np.argmax(prediction[0])\n",
        "    return class_names[predicted_class]\n",
        "\n",
        "# Upload the image file\n",
        "uploaded = files.upload()\n",
        "\n",
        "# Get the uploaded image path\n",
        "image_path = list(uploaded.keys())[0]\n",
        "\n",
        "# Predict the class of the uploaded image\n",
        "predicted_class = predict_image(image_path)\n",
        "print(f\"Predicted class: {predicted_class}\")\n",
        "\n",
        "# Display the uploaded image\n",
        "img = Image.open(image_path)\n",
        "plt.imshow(img, cmap='gray')\n",
        "plt.axis('off')\n",
        "plt.show()\n"
      ],
      "metadata": {
        "id": "AeVhofeMYEUC"
      },
      "execution_count": 35,
      "outputs": []
    },
    {
      "cell_type": "code",
      "source": [],
      "metadata": {
        "id": "8lvHxCE3kvsF"
      },
      "execution_count": null,
      "outputs": []
    }
  ]
}